{
 "cells": [
  {
   "cell_type": "code",
   "execution_count": 1,
   "id": "1c5cca8b-e703-4525-bdd7-b98480ab4e24",
   "metadata": {},
   "outputs": [],
   "source": [
    "#Q1\n",
    "def say_hello():\n",
    "    print(\"Hello, Python learner!\")"
   ]
  },
  {
   "cell_type": "code",
   "execution_count": 25,
   "id": "ef9b03d7-0efe-4c0a-80ce-cbc8472879d6",
   "metadata": {},
   "outputs": [],
   "source": [
    "#Q2\n",
    "def greet_user(name):\n",
    "    print(f\"Hello, {name}! Welcome!\")\n",
    "    greet_user(\"Tehreem\")"
   ]
  },
  {
   "cell_type": "code",
   "execution_count": 5,
   "id": "f59dfa20-18ff-4652-8d6b-454b56f78d71",
   "metadata": {},
   "outputs": [
    {
     "name": "stdout",
     "output_type": "stream",
     "text": [
      "I have a hamster named Harry.\n"
     ]
    }
   ],
   "source": [
    "#Q3\n",
    "def describe_pet(animal_type, pet_name):\n",
    "    print(f\"I have a {animal_type} named {pet_name}.\")\n",
    "describe_pet(\"hamster\", \"Harry\")\n"
   ]
  },
  {
   "cell_type": "code",
   "execution_count": 9,
   "id": "d8b11e2d-7b06-4e39-9d35-79b27f379041",
   "metadata": {},
   "outputs": [
    {
     "name": "stdout",
     "output_type": "stream",
     "text": [
      "I have a dog named Rex.\n",
      "I have a cat named Whiskers.\n"
     ]
    }
   ],
   "source": [
    "#Q4\n",
    "def describe_pet(pet_name, animal_type='dog'):\n",
    "    print(f\"I have a {animal_type} named {pet_name}.\")\n",
    "describe_pet(\"Rex\")\n",
    "describe_pet(\"Whiskers\", \"cat\")"
   ]
  },
  {
   "cell_type": "code",
   "execution_count": 11,
   "id": "8b046371-66e6-4402-b53e-b9e822e37e60",
   "metadata": {},
   "outputs": [
    {
     "name": "stdout",
     "output_type": "stream",
     "text": [
      "John Doe\n"
     ]
    }
   ],
   "source": [
    "#Q5\n",
    "def get_formatted_name(first, last):\n",
    "    full_name = f\"{first} {last}\".title()\n",
    "    return full_name\n",
    "print(get_formatted_name(\"john\", \"doe\"))"
   ]
  },
  {
   "cell_type": "code",
   "execution_count": 13,
   "id": "beff18fc-dfb6-44ba-8e05-6b7f69744b93",
   "metadata": {},
   "outputs": [
    {
     "name": "stdout",
     "output_type": "stream",
     "text": [
      "John Doe\n",
      "John Middle Doe\n"
     ]
    }
   ],
   "source": [
    "#Q6\n",
    "def get_formatted_name(first, last, middle=''):\n",
    "    if middle:\n",
    "        full_name = f\"{first} {middle} {last}\".title()\n",
    "    else:\n",
    "        full_name = f\"{first} {last}\".title()\n",
    "    return full_name\n",
    "\n",
    "print(get_formatted_name(\"john\", \"doe\"))\n",
    "print(get_formatted_name(\"john\", \"doe\", \"middle\"))\n"
   ]
  },
  {
   "cell_type": "code",
   "execution_count": 15,
   "id": "992a888c-c46a-4971-a269-ffc9003b1754",
   "metadata": {},
   "outputs": [
    {
     "name": "stdout",
     "output_type": "stream",
     "text": [
      "{'first': 'John', 'last': 'Doe'}\n",
      "{'first': 'John', 'last': 'Doe', 'age': 30}\n"
     ]
    }
   ],
   "source": [
    "#Q7\n",
    "def build_person(first, last, age=None):\n",
    "    person = {'first': first, 'last': last}\n",
    "    if age:\n",
    "        person['age'] = age\n",
    "    return person\n",
    "\n",
    "print(build_person(\"John\", \"Doe\"))\n",
    "print(build_person(\"John\", \"Doe\", 30)) "
   ]
  },
  {
   "cell_type": "code",
   "execution_count": 19,
   "id": "8cf3579f-7076-41cf-80e7-b647d26d8005",
   "metadata": {},
   "outputs": [
    {
     "name": "stdout",
     "output_type": "stream",
     "text": [
      "Hello, Tehreem!\n",
      "Hello, Fatima!\n",
      "Hello, Tuatua!\n"
     ]
    }
   ],
   "source": [
    "#Q8\n",
    "def greet_users(usernames):\n",
    "    for username in usernames:\n",
    "        print(f\"Hello, {username.title()}!\")\n",
    "\n",
    "greet_users(['Tehreem', 'Fatima', 'tuatua'])"
   ]
  },
  {
   "cell_type": "code",
   "execution_count": 21,
   "id": "7ad3a33f-296e-446a-bc24-dad2b6421556",
   "metadata": {},
   "outputs": [
    {
     "name": "stdout",
     "output_type": "stream",
     "text": [
      "Toppings:\n",
      "- pepperoni\n",
      "- mushrooms\n",
      "- olives\n"
     ]
    }
   ],
   "source": [
    "#Q9\n",
    "def print_toppings(*toppings):\n",
    "    print(\"Toppings:\")\n",
    "    for topping in toppings:\n",
    "        print(f\"- {topping}\")\n",
    "\n",
    "print_toppings('pepperoni', 'mushrooms', 'olives') "
   ]
  },
  {
   "cell_type": "code",
   "execution_count": 23,
   "id": "ded05cdc-2576-48c1-a6bf-f16e66076026",
   "metadata": {},
   "outputs": [
    {
     "name": "stdout",
     "output_type": "stream",
     "text": [
      "{'name': 'John', 'age': 30, 'occupation': 'Developer'}\n"
     ]
    }
   ],
   "source": [
    "#Q10\n",
    "def build_profile(**user_info):\n",
    "    return user_info\n",
    "\n",
    "user_profile = build_profile(name=\"John\", age=30, occupation=\"Developer\")\n",
    "print(user_profile)"
   ]
  },
  {
   "cell_type": "code",
   "execution_count": null,
   "id": "198e3d6a-9af1-4b4c-abbb-281efcd74215",
   "metadata": {},
   "outputs": [],
   "source": []
  }
 ],
 "metadata": {
  "kernelspec": {
   "display_name": "Python 3 (ipykernel)",
   "language": "python",
   "name": "python3"
  },
  "language_info": {
   "codemirror_mode": {
    "name": "ipython",
    "version": 3
   },
   "file_extension": ".py",
   "mimetype": "text/x-python",
   "name": "python",
   "nbconvert_exporter": "python",
   "pygments_lexer": "ipython3",
   "version": "3.12.4"
  }
 },
 "nbformat": 4,
 "nbformat_minor": 5
}
